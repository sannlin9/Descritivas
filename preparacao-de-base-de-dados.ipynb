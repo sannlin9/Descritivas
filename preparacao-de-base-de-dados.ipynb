{
 "cells": [
  {
   "cell_type": "markdown",
   "metadata": {},
   "source": [
    "# Módulo 5 Tarefa 1\n",
    "## Base de nascidos vivos do DataSUS\n",
    "O DataSUS disponibiliza diversos arquivos de dados com relação a seus segurados, conforme a [lei da transparência de informações públicas](https://www.sisgov.com/transparencia-acesso-informacao/#:~:text=A%20Lei%20da%20Transpar%C3%AAncia%20(LC,em%20um%20site%20na%20internet.). \n",
    "\n",
    "Essas informações podem ser obtidas pela internet [aqui](http://www2.datasus.gov.br/DATASUS/index.php?area=0901&item=1). Como o processo de obtenção desses arquivos foge um pouco do nosso escopo, deixamos o arquivo ```SINASC_RO_2019.csv``` já como vai ser encontrado no DataSUS. O dicionário de dados está no arquivo ```estrutura_sinasc_para_CD.pdf``` (o nome do arquivo tal qual no portal do DataSUS).\n",
    "\n",
    "### Nosso objetivo\n",
    "Queremos deixar uma base organizada para podermos estudar a relação entre partos com risco para o bebê e algumas condições como tempo de parto, consultas de pré-natal etc.\n",
    "\n",
    "#### Preparação da base\n",
    "1. Carregue a base 'SINASC_RO_2019.csv'. Conte o número de registros e o número de registros não duplicados da base. Dica: você aprendeu um método que remove duplicados, encadeie este método com um outro método que conta o número de linhas. **Há linhas duplicadas?**  \n",
    "\n",
    "2. Conte o número de valores *missing* por variável.  \n",
    "\n",
    "3. Ok, no item anterior você deve ter achado pouco prático ler a informação de tantas variáveis, muitas delas nem devem ser interesantes. Então crie uma seleção dessa base somente com as colunas que interessam. São elas:\n",
    "``` \n",
    "['LOCNASC', 'IDADEMAE', 'ESTCIVMAE', 'ESCMAE', 'QTDFILVIVO', \n",
    "    'GESTACAO', 'GRAVIDEZ', 'CONSULTAS', 'APGAR5'] \n",
    "```\n",
    "Refaça a contagem de valores *missings*.  \n",
    "\n",
    "4. Apgar é uma *nota* que o pediatra dá ao bebê quando nasce de acordo com algumas características associadas principalmente à respiração. Apgar 1 e Apgar 5 são as notas 1 e 5 minutos do nascimento. Apgar5 será a nossa variável de interesse principal. Então remova todos os registros com Apgar5 não preenchido. Para esta seleção, conte novamente o número de linhas e o número de *missings*.  \n",
    "\n",
    "5. observe que as variáveis ```['ESTCIVMAE', 'CONSULTAS']``` possuem o código ```9```, que significa *ignorado*. Vamos assumir que o não preenchido é o mesmo que o código ```9```.<br>\n",
    "6. Substitua os valores faltantes da quantitativa (```QTDFILVIVO```) por zero.  \n",
    "7. Das restantes, decida que valore te parece mais adequado (um 'não preenchido' ou um valor 'mais provável' como no item anterior) e preencha. Justifique. Lembre-se de que tratamento de dados é trabalho do cientista, e que estamos tomando decisões a todo o momento - não há necessariamente certo e errado aqui.  \n",
    "8. O Apgar possui uma classificação indicando se o bebê passou por asfixia:\n",
    "- Entre 8 e 10 está em uma faixa 'normal'. \n",
    "- Entre 6 e 7, significa que o recém-nascido passou por 'asfixia leve'. \n",
    "- Entre 4 e 5 significa 'asfixia moderada'.\n",
    "- Entre 0 e 3 significa 'asfixia severa'.  \n",
    "\n",
    "Crie uma categorização dessa variável com essa codificação e calcule as frequências dessa categorização.  \n",
    "<br>\n",
    "9. Renomeie as variáveis para que fiquem no *snake case*, ou seja, em letras minúsculas, com um *underscore* entre as palávras. Dica: repare que se você não quiser criar um *dataframe* novo, você vai precisar usar a opção ```inplace = True```."
   ]
  },
  {
   "cell_type": "code",
   "execution_count": null,
   "metadata": {
    "execution": {
     "iopub.execute_input": "2023-03-13T14:57:19.580202Z",
     "iopub.status.busy": "2023-03-13T14:57:19.579782Z",
     "iopub.status.idle": "2023-03-13T14:57:20.164306Z",
     "shell.execute_reply": "2023-03-13T14:57:20.162994Z",
     "shell.execute_reply.started": "2023-03-13T14:57:19.580163Z"
    }
   },
   "outputs": [],
   "source": [
    "import pandas as pd\n",
    "import requests\n",
    "\n",
    "# 1) seu código aqui\n",
    "sinasc = pd.read_csv('SINASC_RO_2019.csv')\n",
    "print(sinasc.shape)\n",
    "sinasc.drop_duplicates().shape\n",
    "# Não há duplicados"
   ]
  },
  {
   "cell_type": "code",
   "execution_count": null,
   "metadata": {
    "execution": {
     "iopub.execute_input": "2023-03-13T14:57:20.167622Z",
     "iopub.status.busy": "2023-03-13T14:57:20.166834Z",
     "iopub.status.idle": "2023-03-13T14:57:20.213500Z",
     "shell.execute_reply": "2023-03-13T14:57:20.212274Z",
     "shell.execute_reply.started": "2023-03-13T14:57:20.167571Z"
    }
   },
   "outputs": [],
   "source": [
    "sinasc.head(10)"
   ]
  },
  {
   "cell_type": "code",
   "execution_count": null,
   "metadata": {
    "execution": {
     "iopub.execute_input": "2023-03-13T14:57:20.215436Z",
     "iopub.status.busy": "2023-03-13T14:57:20.215076Z",
     "iopub.status.idle": "2023-03-13T14:57:20.250653Z",
     "shell.execute_reply": "2023-03-13T14:57:20.249364Z",
     "shell.execute_reply.started": "2023-03-13T14:57:20.215401Z"
    }
   },
   "outputs": [],
   "source": [
    "# 2) seu código aqui - Conte o número de valores missing por variável.\n",
    "sinasc.isna().sum()"
   ]
  },
  {
   "cell_type": "code",
   "execution_count": null,
   "metadata": {
    "execution": {
     "iopub.execute_input": "2023-03-13T14:57:20.254305Z",
     "iopub.status.busy": "2023-03-13T14:57:20.253945Z",
     "iopub.status.idle": "2023-03-13T14:57:20.284852Z",
     "shell.execute_reply": "2023-03-13T14:57:20.283306Z",
     "shell.execute_reply.started": "2023-03-13T14:57:20.254272Z"
    }
   },
   "outputs": [],
   "source": [
    "# 3) seu código aqui - crie uma seleção dessa base somente com as colunas que interessam.\n",
    "filtro_df = sinasc[['LOCNASC','IDADEMAE', 'ESTCIVMAE', 'ESCMAE', 'QTDFILVIVO', 'GESTACAO', \n",
    "               'GRAVIDEZ', 'CONSULTAS', 'APGAR5']].isna()\n",
    "filtro_df"
   ]
  },
  {
   "cell_type": "code",
   "execution_count": null,
   "metadata": {
    "execution": {
     "iopub.execute_input": "2023-03-13T14:57:20.287100Z",
     "iopub.status.busy": "2023-03-13T14:57:20.286743Z",
     "iopub.status.idle": "2023-03-13T14:57:20.300650Z",
     "shell.execute_reply": "2023-03-13T14:57:20.299338Z",
     "shell.execute_reply.started": "2023-03-13T14:57:20.287063Z"
    }
   },
   "outputs": [],
   "source": [
    "# 4) seu código aqui\n",
    "drop,_=drop,_=sinasc[['APGAR5']].dropna().shape\n",
    "comple,_= sinasc[['APGAR5']].shape\n",
    "print('Após a limpeza de dados nulos da coluna APGAR5 temos',drop, 'pacientes, ao todo retiramos',comple-drop,' linhas.')\n"
   ]
  },
  {
   "cell_type": "code",
   "execution_count": null,
   "metadata": {
    "execution": {
     "iopub.execute_input": "2023-03-13T14:57:20.302939Z",
     "iopub.status.busy": "2023-03-13T14:57:20.302332Z",
     "iopub.status.idle": "2023-03-13T14:57:20.323189Z",
     "shell.execute_reply": "2023-03-13T14:57:20.322183Z",
     "shell.execute_reply.started": "2023-03-13T14:57:20.302899Z"
    }
   },
   "outputs": [],
   "source": [
    "sinasc[['APGAR5']].dropna()"
   ]
  },
  {
   "cell_type": "code",
   "execution_count": null,
   "metadata": {
    "execution": {
     "iopub.execute_input": "2023-03-13T14:57:20.325048Z",
     "iopub.status.busy": "2023-03-13T14:57:20.324712Z",
     "iopub.status.idle": "2023-03-13T14:57:20.341534Z",
     "shell.execute_reply": "2023-03-13T14:57:20.340258Z",
     "shell.execute_reply.started": "2023-03-13T14:57:20.325015Z"
    }
   },
   "outputs": [],
   "source": [
    "# 5) seu código aqui - ['ESTCIVMAE', 'CONSULTAS']\n",
    "sinasc[['ESTCIVMAE', 'CONSULTAS']].fillna(9)"
   ]
  },
  {
   "cell_type": "code",
   "execution_count": null,
   "metadata": {
    "execution": {
     "iopub.execute_input": "2023-03-13T14:57:20.343625Z",
     "iopub.status.busy": "2023-03-13T14:57:20.343268Z",
     "iopub.status.idle": "2023-03-13T14:57:20.361781Z",
     "shell.execute_reply": "2023-03-13T14:57:20.360211Z",
     "shell.execute_reply.started": "2023-03-13T14:57:20.343594Z"
    }
   },
   "outputs": [],
   "source": [
    "# 6) Seu código aqui - (QTDFILVIVO) \n",
    "sinasc[['QTDFILVIVO']].fillna(0)"
   ]
  },
  {
   "cell_type": "code",
   "execution_count": null,
   "metadata": {
    "execution": {
     "iopub.execute_input": "2023-03-13T14:57:20.364989Z",
     "iopub.status.busy": "2023-03-13T14:57:20.363552Z",
     "iopub.status.idle": "2023-03-13T14:57:20.421040Z",
     "shell.execute_reply": "2023-03-13T14:57:20.419776Z",
     "shell.execute_reply.started": "2023-03-13T14:57:20.364932Z"
    }
   },
   "outputs": [],
   "source": [
    "sinasc.isna()"
   ]
  },
  {
   "cell_type": "code",
   "execution_count": null,
   "metadata": {
    "execution": {
     "iopub.execute_input": "2023-03-13T14:57:20.426220Z",
     "iopub.status.busy": "2023-03-13T14:57:20.425825Z",
     "iopub.status.idle": "2023-03-13T14:57:20.432147Z",
     "shell.execute_reply": "2023-03-13T14:57:20.431001Z",
     "shell.execute_reply.started": "2023-03-13T14:57:20.426184Z"
    }
   },
   "outputs": [],
   "source": [
    "# 7) seu código aqui"
   ]
  },
  {
   "cell_type": "markdown",
   "metadata": {},
   "source": [
    "Considerando que a base de dados se refere aos nascidos vivos do estado de Roraima e tem como interesse os dados relacionados  \n",
    "aos próprios nascidos, desconsiderei os dados não relacionados ao estado da criança, por exemplo dados relacionados aos pais \n",
    "(como por exemplo ocupação dos pais), versão do sistema e considerei apenas o nome do município para identificação do local \n",
    "dados como longitude e altitude também foram desconsiderados. Os dados quantitivos como quantidade de filhos mortos e vivos foram substituidos por 0 e quando aplicavel pelo codigo 9 de ignorado, e os demais dados nulos foram desconsiderados na analise."
   ]
  },
  {
   "cell_type": "code",
   "execution_count": null,
   "metadata": {
    "execution": {
     "iopub.execute_input": "2023-03-13T14:57:20.434202Z",
     "iopub.status.busy": "2023-03-13T14:57:20.433820Z",
     "iopub.status.idle": "2023-03-13T14:57:20.447989Z",
     "shell.execute_reply": "2023-03-13T14:57:20.446453Z",
     "shell.execute_reply.started": "2023-03-13T14:57:20.434165Z"
    }
   },
   "outputs": [],
   "source": [
    "sinasc_df=sinasc.drop(columns=\n",
    "                    ['ESTCIVMAE','ESCMAE','CODOCUPMAE','CODMUNRES','CODANOMAL','NUMEROLOTE','VERSAOSIST','DTRECEBIM','DIFDATA',\n",
    "                    'DTRECORIGA','NATURALMAE','CODMUNNATU','CODUFNATU','ESCMAE2010','SERIESCMAE','DTNASCMAE','RACACORMAE',\n",
    "                    'QTDPARTNOR','QTDPARTCES','IDADEPAI','DTULTMENST','DTDECLARAC','ESCMAEAGR1','STDNEPIDEM','STDNNOVA','CODPAISRES',\n",
    "                    'TPROBSON', 'munResStatus','munResTipo','munResUf','munResLat','munResLon','munResAlt','munResArea','CODMUNNASC',\n",
    "                    'LOCNASC','ORIGEM','CODESTAB','RACACOR','QTDGESTANT','SEMAGESTAC','TPMETESTIM','CONSPRENAT','MESPRENAT',\n",
    "                    'STTRABPART','IDANOMAL','STCESPARTO','TPAPRESENT','KOTELCHUCK'])"
   ]
  },
  {
   "cell_type": "code",
   "execution_count": null,
   "metadata": {
    "execution": {
     "iopub.execute_input": "2023-03-13T14:57:20.450085Z",
     "iopub.status.busy": "2023-03-13T14:57:20.449462Z",
     "iopub.status.idle": "2023-03-13T14:57:20.475827Z",
     "shell.execute_reply": "2023-03-13T14:57:20.474750Z",
     "shell.execute_reply.started": "2023-03-13T14:57:20.450043Z"
    }
   },
   "outputs": [],
   "source": [
    "sinasc_df.isna().sum()"
   ]
  },
  {
   "cell_type": "code",
   "execution_count": null,
   "metadata": {
    "execution": {
     "iopub.execute_input": "2023-03-13T14:57:20.477747Z",
     "iopub.status.busy": "2023-03-13T14:57:20.477213Z",
     "iopub.status.idle": "2023-03-13T14:57:20.512065Z",
     "shell.execute_reply": "2023-03-13T14:57:20.510889Z",
     "shell.execute_reply.started": "2023-03-13T14:57:20.477711Z"
    }
   },
   "outputs": [],
   "source": [
    "new_df = sinasc_df[['QTDFILVIVO','QTDFILMORT','SEXO']].fillna(0)\n",
    "new_df = sinasc_df[['GESTACAO','GRAVIDEZ','PARTO','CONSULTAS']].fillna(9)\n",
    "new_df = sinasc_df.dropna()"
   ]
  },
  {
   "cell_type": "code",
   "execution_count": null,
   "metadata": {
    "execution": {
     "iopub.execute_input": "2023-03-13T14:57:20.513383Z",
     "iopub.status.busy": "2023-03-13T14:57:20.513063Z",
     "iopub.status.idle": "2023-03-13T14:57:20.535886Z",
     "shell.execute_reply": "2023-03-13T14:57:20.534505Z",
     "shell.execute_reply.started": "2023-03-13T14:57:20.513353Z"
    }
   },
   "outputs": [],
   "source": [
    "new_df.isna().sum()"
   ]
  },
  {
   "cell_type": "code",
   "execution_count": null,
   "metadata": {
    "execution": {
     "iopub.execute_input": "2023-03-13T14:57:20.538951Z",
     "iopub.status.busy": "2023-03-13T14:57:20.538093Z",
     "iopub.status.idle": "2023-03-13T14:57:20.585323Z",
     "shell.execute_reply": "2023-03-13T14:57:20.583992Z",
     "shell.execute_reply.started": "2023-03-13T14:57:20.538899Z"
    }
   },
   "outputs": [],
   "source": [
    "# 8) seu código aqui - O Apgar possui uma classificação indicando se o bebê passou por asfixia:\n",
    "\n",
    "new_df.loc[new_df['APGAR5']>= 8, 'class_asfixia'] = 'normal'\n",
    "new_df.loc[(new_df['APGAR5'] >= 6) & (new_df['APGAR5']<=7), 'class_asfixia'] = 'asfixia leve'\n",
    "new_df.loc[(new_df['APGAR5'] >= 4) & (new_df['APGAR5']<=5), 'class_asfixia'] = 'asfixia moderada'\n",
    "new_df.loc[new_df['APGAR5']<=3, 'class_asfixia'] = 'asfixia severa'\n",
    "\n",
    "new_df.head(5)"
   ]
  },
  {
   "cell_type": "code",
   "execution_count": null,
   "metadata": {
    "execution": {
     "iopub.execute_input": "2023-03-13T14:57:20.587758Z",
     "iopub.status.busy": "2023-03-13T14:57:20.587269Z",
     "iopub.status.idle": "2023-03-13T14:57:20.633105Z",
     "shell.execute_reply": "2023-03-13T14:57:20.632082Z",
     "shell.execute_reply.started": "2023-03-13T14:57:20.587703Z"
    }
   },
   "outputs": [],
   "source": [
    "# 9) seu código aqui -Renomeie as variáveis para que fiquem no snake case, ou seja, em letras minúsculas, \n",
    "#com um underscore entre as palávras. Dica: repare que se você não quiser \n",
    "#criar um dataframe novo, você vai precisar usar a opção inplace = True.\n",
    "new_df.rename(columns={'IDADEMAE': 'idade_da_mae'}, inplace = True)\n",
    "new_df.rename(columns={'QTDFILVIVO': 'qtd_filhos_vivos'}, inplace = True)\n",
    "new_df.rename(columns={'QTDFILMORT': 'qtd_filhos_mortos'}, inplace = True)\n",
    "new_df.rename(columns={'GESTACAO': 'gestacao'}, inplace = True)\n",
    "new_df.rename(columns={'GRAVIDEZ': 'gravidez'}, inplace = True)\n",
    "new_df.rename(columns={'PARTO': 'parto'}, inplace = True)\n",
    "new_df.rename(columns={'CONSULTAS': 'consulta'}, inplace = True)\n",
    "\n",
    "## Ao tentar renomear as colunas indidualmente utilizando a opcao inplace=true\n",
    "#dentro do mesmo DataFrame o Python levanta um SettingWithCopyWarning.\n",
    "\n",
    "new_df.head(5)\n"
   ]
  },
  {
   "cell_type": "code",
   "execution_count": null,
   "metadata": {
    "execution": {
     "iopub.execute_input": "2023-03-13T14:57:20.634583Z",
     "iopub.status.busy": "2023-03-13T14:57:20.634259Z",
     "iopub.status.idle": "2023-03-13T14:57:20.642883Z",
     "shell.execute_reply": "2023-03-13T14:57:20.641559Z",
     "shell.execute_reply.started": "2023-03-13T14:57:20.634552Z"
    }
   },
   "outputs": [],
   "source": [
    "new_df.columns"
   ]
  },
  {
   "cell_type": "code",
   "execution_count": null,
   "metadata": {
    "execution": {
     "iopub.execute_input": "2023-03-13T14:57:20.644950Z",
     "iopub.status.busy": "2023-03-13T14:57:20.644310Z",
     "iopub.status.idle": "2023-03-13T14:57:20.701470Z",
     "shell.execute_reply": "2023-03-13T14:57:20.700287Z",
     "shell.execute_reply.started": "2023-03-13T14:57:20.644883Z"
    }
   },
   "outputs": [],
   "source": [
    "new_df.columns = ['idade_da_mae', 'qtd_filhos_vivos', 'qtd_filhos_mortos', 'gestacao','gravidez', 'parto','consulta','data_nasc',\n",
    "                 'hora_nasc','sexo','apgar_1','apgar_5','peso','data_cadastro','tp_nasc_assis','tp_func_resp','tp_doc_resp',\n",
    "                  'paridade','contador', 'munResNome', 'class_asfixia' ]\n",
    "new_df"
   ]
  }
 ],
 "metadata": {
  "kernelspec": {
   "display_name": "Python 3 (ipykernel)",
   "language": "python",
   "name": "python3"
  },
  "language_info": {
   "codemirror_mode": {
    "name": "ipython",
    "version": 3
   },
   "file_extension": ".py",
   "mimetype": "text/x-python",
   "name": "python",
   "nbconvert_exporter": "python",
   "pygments_lexer": "ipython3",
   "version": "3.9.13"
  }
 },
 "nbformat": 4,
 "nbformat_minor": 4
}
